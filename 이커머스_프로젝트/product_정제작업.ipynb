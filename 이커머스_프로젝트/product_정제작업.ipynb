{
 "cells": [
  {
   "cell_type": "code",
   "execution_count": 25,
   "id": "28f91173-fea5-490f-8da6-7346dc11ece0",
   "metadata": {},
   "outputs": [
    {
     "data": {
      "text/plain": [
       "array(['식기/편백', '과자', '식사대용', '생물수산', '중량(정육)', '음료', '열매채소', '냉동수산',\n",
       "       '말린나물/건재', '수산가공', '소스/기타양념', '육가공', '버섯', '과일', '기름/식초', '차',\n",
       "       '밀가공', '빵', '가루', '해조', '잎/줄기채소', '김치', '생활용품', '세제/세안', '건강일반',\n",
       "       '양념채소', '건어물', '즉석조리', '장', '콩/화본/깨', '견과', '어묵/묵', '밑반찬', '닭/오리',\n",
       "       '소', '잼/병조림/기타', '알', '돼지', '소금', '뿌리채소', '떡', '홍삼/녹용', '쌈채소류',\n",
       "       '꿀', '과실주', '과일채소', '유색미/발아미', '두부/유부', '절임/장아찌', '유제품', '전통주',\n",
       "       '멥쌀', '보리/혼합곡', '화장품', '콩나물', '손질한채소', '섬유', '찹쌀', '김장채소'],\n",
       "      dtype=object)"
      ]
     },
     "execution_count": 25,
     "metadata": {},
     "output_type": "execute_result"
    }
   ],
   "source": [
    "import pandas as pd\n",
    "df3 = pd.read_csv('product_data.csv')\n",
    "df3['물품대분류'].unique()"
   ]
  },
  {
   "cell_type": "code",
   "execution_count": 35,
   "id": "1e5aa249-a689-4e21-89b1-bd20f96fe0fc",
   "metadata": {},
   "outputs": [
    {
     "data": {
      "text/html": [
       "<div>\n",
       "<style scoped>\n",
       "    .dataframe tbody tr th:only-of-type {\n",
       "        vertical-align: middle;\n",
       "    }\n",
       "\n",
       "    .dataframe tbody tr th {\n",
       "        vertical-align: top;\n",
       "    }\n",
       "\n",
       "    .dataframe thead th {\n",
       "        text-align: right;\n",
       "    }\n",
       "</style>\n",
       "<table border=\"1\" class=\"dataframe\">\n",
       "  <thead>\n",
       "    <tr style=\"text-align: right;\">\n",
       "      <th></th>\n",
       "      <th>제품번호</th>\n",
       "      <th>물품명</th>\n",
       "      <th>물품대분류</th>\n",
       "      <th>물품중분류</th>\n",
       "      <th>상품중량</th>\n",
       "    </tr>\n",
       "  </thead>\n",
       "  <tbody>\n",
       "    <tr>\n",
       "      <th>0</th>\n",
       "      <td>100021V2_0</td>\n",
       "      <td>2단무늬컵</td>\n",
       "      <td>식기/편백</td>\n",
       "      <td>자기</td>\n",
       "      <td>1p</td>\n",
       "    </tr>\n",
       "    <tr>\n",
       "      <th>1</th>\n",
       "      <td>100022V2_1</td>\n",
       "      <td>7곡딸기롤과자</td>\n",
       "      <td>과자</td>\n",
       "      <td>스낵</td>\n",
       "      <td>100g/10개입</td>\n",
       "    </tr>\n",
       "    <tr>\n",
       "      <th>2</th>\n",
       "      <td>100023V2_2</td>\n",
       "      <td>7곡참식</td>\n",
       "      <td>식사대용</td>\n",
       "      <td>선식/생식</td>\n",
       "      <td>700g</td>\n",
       "    </tr>\n",
       "    <tr>\n",
       "      <th>3</th>\n",
       "      <td>100024V2_3</td>\n",
       "      <td>가리비</td>\n",
       "      <td>생물수산</td>\n",
       "      <td>패류/갑각류</td>\n",
       "      <td>1.5kg</td>\n",
       "    </tr>\n",
       "    <tr>\n",
       "      <th>4</th>\n",
       "      <td>100025V2_3</td>\n",
       "      <td>가리비</td>\n",
       "      <td>생물수산</td>\n",
       "      <td>패류/갑각류</td>\n",
       "      <td>1kg</td>\n",
       "    </tr>\n",
       "  </tbody>\n",
       "</table>\n",
       "</div>"
      ],
      "text/plain": [
       "         제품번호      물품명  물품대분류   물품중분류       상품중량\n",
       "0  100021V2_0    2단무늬컵  식기/편백      자기         1p\n",
       "1  100022V2_1  7곡딸기롤과자     과자      스낵  100g/10개입\n",
       "2  100023V2_2     7곡참식   식사대용   선식/생식       700g\n",
       "3  100024V2_3      가리비   생물수산  패류/갑각류      1.5kg\n",
       "4  100025V2_3      가리비   생물수산  패류/갑각류        1kg"
      ]
     },
     "execution_count": 35,
     "metadata": {},
     "output_type": "execute_result"
    }
   ],
   "source": [
    "df3.head()"
   ]
  },
  {
   "cell_type": "code",
   "execution_count": 27,
   "id": "6ebb8b4f-1d1c-457a-aa63-4564340421cf",
   "metadata": {},
   "outputs": [],
   "source": [
    "### 물품 중분류 식품 비식품으로 분류하기\n",
    "\n",
    "## 상품중량의 결측치는 제거?"
   ]
  },
  {
   "cell_type": "code",
   "execution_count": 29,
   "id": "84a84cc0-a246-433f-a5cd-b34f78527289",
   "metadata": {
    "scrolled": true
   },
   "outputs": [
    {
     "data": {
      "text/plain": [
       "array(['자기', '스낵', '선식/생식', '패류/갑각류', '옹기', '돼지(중량)', '발효음료', '과즙',\n",
       "       '가시오이', '냉동생선', '가지', '가지말림', '게장/게살', '소스', '돈가스/분쇄가공', '수산가공반찬',\n",
       "       '만가닥버섯', '양송이버섯', '귤(비가림)', '귤만감', '빙과', '곶감', '식초', '음료기타', '잎꽃차',\n",
       "       '라면', '건강곡물빵', '과채가루', '생숙면', '기타해조류', '갓', '기타채소', '갓끈동부', '풋콩',\n",
       "       '환경용품', '개복숭아', '살균/세정/탈취', '분말/환', '건고추', '곡류차', '건대추', '말린도라지',\n",
       "       '목이버섯', '기타건어류', '국.찌개', '건강차', '장류/기타', '두유', '깨', '콩', '밤',\n",
       "       '엿/양갱/기타', '묵', '피자/핫도그', '고구마순', '고구마순말림(70g)', '찐빵,호떡,전통',\n",
       "       '케이크,롤,선물', '만두', '기타', '부각/튀각', '햄/소시지/훈제', '볶음', '기타양념', '고춧가루',\n",
       "       '고춧잎', '프리믹스', '씨리얼', '곤드레나물/손질', '식사대용/기타', '곤드레잎', '기타생활용품',\n",
       "       '곰취', '무항생제닭', '기타냉동수산', '유기한우', '공심채', '잼', '푸딩', '김', '김가공',\n",
       "       '유정란', '보리살림돼지', '대용량물품(냉동수산)', '가공소금', '멸치류', '황태류', '천일염',\n",
       "       '스테인리스', '화본', '귤(조생)', '숯/원예', '근대', '금이버섯', '한과/유과', '간편요리',\n",
       "       '배추', '젓갈/액젓', '무', '더덕/손질', '도라지/손질', '깐마늘', '은행', '쪽파', '호두',\n",
       "       '깻단', '깻잎', '새송이버섯', '즉석떡', '쿠키', '한우(중량)', '녹용', '상추', '기타(냉동 등)',\n",
       "       '꽈리고추', '냉동건조과일', '꿀', '포도주', '냉동패류', '송편', '냉동딸기', '가래떡', '냉동메론',\n",
       "       '블루베리', '산딸기', '냉이', '노각오이', '노루궁뎅이버섯', '곡식가루', '유색미', '느타리버섯',\n",
       "       '편백', '늙은호박', '대파/손질', '꿀부산물', '다래순말림(100g)', '국/탕(수산)', '미역/다시마',\n",
       "       '수산분말', '주방소품', '위생용품', '단감', '두부', '절임', '앙금크림빵', '단호박', '단호박/손질',\n",
       "       '요구르트', '달래', '장아찌', '당근', '단과자빵', '면/기타', '당조고추', '조림', '대파',\n",
       "       '더덕', '추출/농축액', '건강/기타', '옻칠', '육포/기타', '돌나물', '간편조리면', '돼지감자',\n",
       "       '뿌리차', '식육추출가공', '무항생제돼지', '보리살림(냉장)', '두릅', '어묵', '헤어', '애호박',\n",
       "       '기름', '무항생제(냉장)', '유기한우(냉장)', '딸기', '땅두릅', '탁주', '병조림/기타', '땅콩호박',\n",
       "       '라디치오', '레몬', '로메인', '루꼴라', '치즈/기타', '상황버섯', '마', '마늘/재래종',\n",
       "       '마늘(난지형)', '마늘(장아찌용)', '마늘쫑', '말린고사리(70g)', '말린곤드레나물(100g)',\n",
       "       '말린삼잎국화나물', '말린아주까리잎(100g)', '표고버섯', '간장', '우유/산양유', '생물해조류',\n",
       "       '가루/기타', '머위', '머위잎', '메론', '국수', '메주', '양념가루', '수산가공간식', '명이나물',\n",
       "       '절임차', '한우(냉장)', '세안비누', '사과', '페스츄리류', '무말림(200g)', '무침', '무쇠',\n",
       "       '무순', '무시래기(100g)', '무화과', '세탁비누', '치약/칫솔', '바디', '주방용비누', '미나리',\n",
       "       '미니단호박', '파프리카', '증류주', '리큐르/기타', '바질', '반디나물', '오징어류', '발아미',\n",
       "       '방울무', '양배추', '방울토마토', '방풍나물', '배', '멥쌀', '무항생제오리', '토종닭', '논지엠오닭',\n",
       "       '베타쌈배추', '보리', '보리순', '복숭아', '땅콩', '봄동', '부추', '브로컬리', '죽', '비름나물',\n",
       "       '비타민고추', '비타민채소', '뽕잎나물(100g)', '생대추', '된장', '산나물모음', '산양삼',\n",
       "       '삶은고사리/손질', '삶은무시래기', '죽순', '찰옥수수', '건재', '삼잎국화나물', '삼채잎',\n",
       "       '식빵, 식사대용', '샐러리', '생강', '도라지', '어류/연체류', '생오미자', '생채', '취나물',\n",
       "       '생토란줄기', '상자', '토종', '고추장', '휴지', '세발나물', '열무', '솔부추', '수박',\n",
       "       '기초화장품', '세안제/팩', '유아/썬크림', '바디/핸드', '숙주나물', '스낵오이', '시금치', '신선초',\n",
       "       '쌈배추', '쌈양상추', '쌈채소모음', '쌈케일', '쑥', '쑥갓', '씀바귀', '아로니아', '아스파라거스',\n",
       "       '아욱', '아이스크림', '알로에', '알비트', '알타리무', '알토란', '애호박말림', '야콘', '양념육',\n",
       "       '양상추', '양파', '홍삼', '어린잎채소', '얼갈이', '연근말림', '연근채/세척', '소품', '영유아',\n",
       "       '성인', '침구', '아동', '오가피순', '혼합곡', '오이', '오이맛풋고추', '완숙토마토', '약주',\n",
       "       '우엉', '우엉/손질', '울금', '월동무', '전통유기', '유부', '논지엠오유정란', '유채나물', '인삼',\n",
       "       '잎마늘', '자두', '자색양파', '남성화장품', '색조화장품', '잣', '재래닭유정란', '재래종중파',\n",
       "       '적양배추', '조선오이', '중파', '즙용브로컬리', '케일', '참다래', '참외', '찹쌀', '조리빵',\n",
       "       '채심', '청갓', '청경채', '청매실', '청양고추', '포도(혼합포도)', '초석잠', '참취나물말림',\n",
       "       '취청오이', '치커리', '콜라비', '콜리플라워', '콩가공/기타', '콩나물', '파이,과자,쿠키류',\n",
       "       '토란줄기말림(70g)', '보리살림닭', '토종풋고추', '연근', '팽이버섯', '풋고추', '피망', '한우',\n",
       "       '떡케이크/선물', '호박잎', '영지버섯', '홍고추', '홍시용감(대봉)', '홍시용감(둥시)', '홍화나물',\n",
       "       '황기', '황매실'], dtype=object)"
      ]
     },
     "execution_count": 29,
     "metadata": {},
     "output_type": "execute_result"
    }
   ],
   "source": [
    "df3['물품중분류'].unique()"
   ]
  },
  {
   "cell_type": "code",
   "execution_count": 31,
   "id": "328ee492-0eab-4ba5-a321-55e51e133d44",
   "metadata": {},
   "outputs": [],
   "source": [
    "no_food = [\n",
    "    '비누', '화장품', '용품', '소품', '화본', '비누', '핸드', '세정', '기초화장품', \n",
    "    '건강', '비누', '세안비누', '소품', '침구', '환', '영유아', '위생', '환경용품', \n",
    "    '상자', '무쇠', '옹기', '무쇠', '주방', '세탁비누', '유아', '기초화장품', '세안제', \n",
    "    '세정', '남성화장품', '살균', '기타', '기타', '소품', '황기', '성인', '자기', '색조화장품', '토종', '남성화장품', '리큐르']"
   ]
  },
  {
   "cell_type": "code",
   "execution_count": 63,
   "id": "bd7ca74d-96ac-47b8-b00b-a00fb49eb5ad",
   "metadata": {
    "scrolled": true
   },
   "outputs": [
    {
     "data": {
      "text/html": [
       "<div>\n",
       "<style scoped>\n",
       "    .dataframe tbody tr th:only-of-type {\n",
       "        vertical-align: middle;\n",
       "    }\n",
       "\n",
       "    .dataframe tbody tr th {\n",
       "        vertical-align: top;\n",
       "    }\n",
       "\n",
       "    .dataframe thead th {\n",
       "        text-align: right;\n",
       "    }\n",
       "</style>\n",
       "<table border=\"1\" class=\"dataframe\">\n",
       "  <thead>\n",
       "    <tr style=\"text-align: right;\">\n",
       "      <th></th>\n",
       "      <th>제품번호</th>\n",
       "      <th>물품명</th>\n",
       "      <th>물품대분류</th>\n",
       "      <th>물품중분류</th>\n",
       "      <th>상품중량</th>\n",
       "      <th>식품/비식품</th>\n",
       "    </tr>\n",
       "  </thead>\n",
       "  <tbody>\n",
       "    <tr>\n",
       "      <th>0</th>\n",
       "      <td>100021V2_0</td>\n",
       "      <td>2단무늬컵</td>\n",
       "      <td>식기/편백</td>\n",
       "      <td>자기</td>\n",
       "      <td>1p</td>\n",
       "      <td>1</td>\n",
       "    </tr>\n",
       "    <tr>\n",
       "      <th>1</th>\n",
       "      <td>100022V2_1</td>\n",
       "      <td>7곡딸기롤과자</td>\n",
       "      <td>과자</td>\n",
       "      <td>스낵</td>\n",
       "      <td>100g/10개입</td>\n",
       "      <td>0</td>\n",
       "    </tr>\n",
       "    <tr>\n",
       "      <th>2</th>\n",
       "      <td>100023V2_2</td>\n",
       "      <td>7곡참식</td>\n",
       "      <td>식사대용</td>\n",
       "      <td>선식/생식</td>\n",
       "      <td>700g</td>\n",
       "      <td>0</td>\n",
       "    </tr>\n",
       "    <tr>\n",
       "      <th>3</th>\n",
       "      <td>100024V2_3</td>\n",
       "      <td>가리비</td>\n",
       "      <td>생물수산</td>\n",
       "      <td>패류/갑각류</td>\n",
       "      <td>1.5kg</td>\n",
       "      <td>0</td>\n",
       "    </tr>\n",
       "    <tr>\n",
       "      <th>4</th>\n",
       "      <td>100025V2_3</td>\n",
       "      <td>가리비</td>\n",
       "      <td>생물수산</td>\n",
       "      <td>패류/갑각류</td>\n",
       "      <td>1kg</td>\n",
       "      <td>0</td>\n",
       "    </tr>\n",
       "    <tr>\n",
       "      <th>...</th>\n",
       "      <td>...</td>\n",
       "      <td>...</td>\n",
       "      <td>...</td>\n",
       "      <td>...</td>\n",
       "      <td>...</td>\n",
       "      <td>...</td>\n",
       "    </tr>\n",
       "    <tr>\n",
       "      <th>2544</th>\n",
       "      <td>100022545V2_1913</td>\n",
       "      <td>흑임자구름떡</td>\n",
       "      <td>떡</td>\n",
       "      <td>즉석떡</td>\n",
       "      <td>180g</td>\n",
       "      <td>0</td>\n",
       "    </tr>\n",
       "    <tr>\n",
       "      <th>2545</th>\n",
       "      <td>100022546V2_1914</td>\n",
       "      <td>흑임자인절미</td>\n",
       "      <td>떡</td>\n",
       "      <td>즉석떡</td>\n",
       "      <td>150g</td>\n",
       "      <td>0</td>\n",
       "    </tr>\n",
       "    <tr>\n",
       "      <th>2546</th>\n",
       "      <td>100022547V2_1915</td>\n",
       "      <td>흑토마토</td>\n",
       "      <td>과일채소</td>\n",
       "      <td>완숙토마토</td>\n",
       "      <td>1kg</td>\n",
       "      <td>0</td>\n",
       "    </tr>\n",
       "    <tr>\n",
       "      <th>2547</th>\n",
       "      <td>100022548V2_1915</td>\n",
       "      <td>흑토마토</td>\n",
       "      <td>과일채소</td>\n",
       "      <td>완숙토마토</td>\n",
       "      <td>1kg/소</td>\n",
       "      <td>0</td>\n",
       "    </tr>\n",
       "    <tr>\n",
       "      <th>2548</th>\n",
       "      <td>100022549V2_1916</td>\n",
       "      <td>흰밀가루</td>\n",
       "      <td>가루</td>\n",
       "      <td>곡식가루</td>\n",
       "      <td>1kg</td>\n",
       "      <td>0</td>\n",
       "    </tr>\n",
       "  </tbody>\n",
       "</table>\n",
       "<p>2549 rows × 6 columns</p>\n",
       "</div>"
      ],
      "text/plain": [
       "                  제품번호      물품명  물품대분류   물품중분류       상품중량  식품/비식품\n",
       "0           100021V2_0    2단무늬컵  식기/편백      자기         1p       1\n",
       "1           100022V2_1  7곡딸기롤과자     과자      스낵  100g/10개입       0\n",
       "2           100023V2_2     7곡참식   식사대용   선식/생식       700g       0\n",
       "3           100024V2_3      가리비   생물수산  패류/갑각류      1.5kg       0\n",
       "4           100025V2_3      가리비   생물수산  패류/갑각류        1kg       0\n",
       "...                ...      ...    ...     ...        ...     ...\n",
       "2544  100022545V2_1913   흑임자구름떡      떡     즉석떡       180g       0\n",
       "2545  100022546V2_1914   흑임자인절미      떡     즉석떡       150g       0\n",
       "2546  100022547V2_1915     흑토마토   과일채소   완숙토마토        1kg       0\n",
       "2547  100022548V2_1915     흑토마토   과일채소   완숙토마토      1kg/소       0\n",
       "2548  100022549V2_1916     흰밀가루     가루    곡식가루        1kg       0\n",
       "\n",
       "[2549 rows x 6 columns]"
      ]
     },
     "execution_count": 63,
     "metadata": {},
     "output_type": "execute_result"
    }
   ],
   "source": [
    "# 식품/비식품 구분 파생변수 생성 \n",
    "# 식품이 0 , 비식품이 1\n",
    "df3['식품/비식품'] = df3['물품중분류'].apply(lambda x: 1 if any(item in x for item in no_food) else 0)\n",
    "\n",
    "df3\n",
    "\n"
   ]
  },
  {
   "cell_type": "code",
   "execution_count": 105,
   "id": "6d29c19e-20ed-4bd5-8079-003893aebedc",
   "metadata": {},
   "outputs": [
    {
     "data": {
      "text/plain": [
       "냉장여부\n",
       "1    1945\n",
       "0     604\n",
       "Name: count, dtype: int64"
      ]
     },
     "execution_count": 105,
     "metadata": {},
     "output_type": "execute_result"
    }
   ],
   "source": [
    "refrigerated_items = ['패류/갑각류', '돼지(중량)', '냉동생선', '게장/게살', '돈가스/분쇄가공', '수산가공반찬', '기타해조류', '기타채소', '국.찌개', '피자/핫도그', '만두', '햄/소시지/훈제', '볶음', '식사대용/기타', '무항생제닭', '기타냉동수산', '유기한우', '보리살림돼지', '대용량물품(냉동수산)', '간편요리', '젓갈/액젓', '한우(중량)', '기타(냉동 등)',  '냉동건조과일', '냉동패류','냉동딸기', '냉동메론', '국/탕(수산)', '조림', '간편조리면', '식육추출가공', '무항생제돼지', '보리살림(냉장)', '무항생제(냉장)', '유기한우(냉장)', '우유/산양유', '생물해조류', '수산가공간식', '한우(냉장)', '무침', '오징어류', '무항생제오리',  '토종닭', '논지엠오닭', '죽', '식사대용', '어류/연체류', '토종', '아이스크림', '양념육', '유부', '보리살림닭', '한우' ]\n",
    "\n",
    "\n",
    "df3['냉장여부'] = df3['물품중분류'].apply(lambda x: 0 if x in refrigerated_items else 1)\n",
    "df3['냉장여부'].value_counts()"
   ]
  },
  {
   "cell_type": "code",
   "execution_count": 107,
   "id": "bfd6a517-26cd-4668-ab59-dd9f72e0419a",
   "metadata": {},
   "outputs": [
    {
     "data": {
      "text/plain": [
       "2549"
      ]
     },
     "execution_count": 107,
     "metadata": {},
     "output_type": "execute_result"
    }
   ],
   "source": [
    "1945+604"
   ]
  },
  {
   "cell_type": "code",
   "execution_count": 76,
   "id": "294cd67a-031b-47e2-81dc-ea06b4b77700",
   "metadata": {},
   "outputs": [
    {
     "data": {
      "text/html": [
       "<div>\n",
       "<style scoped>\n",
       "    .dataframe tbody tr th:only-of-type {\n",
       "        vertical-align: middle;\n",
       "    }\n",
       "\n",
       "    .dataframe tbody tr th {\n",
       "        vertical-align: top;\n",
       "    }\n",
       "\n",
       "    .dataframe thead th {\n",
       "        text-align: right;\n",
       "    }\n",
       "</style>\n",
       "<table border=\"1\" class=\"dataframe\">\n",
       "  <thead>\n",
       "    <tr style=\"text-align: right;\">\n",
       "      <th></th>\n",
       "      <th>제품번호</th>\n",
       "      <th>물품명</th>\n",
       "      <th>물품대분류</th>\n",
       "      <th>물품중분류</th>\n",
       "      <th>상품중량</th>\n",
       "      <th>식품/비식품</th>\n",
       "      <th>냉장여부</th>\n",
       "    </tr>\n",
       "  </thead>\n",
       "  <tbody>\n",
       "    <tr>\n",
       "      <th>0</th>\n",
       "      <td>100021V2_0</td>\n",
       "      <td>2단무늬컵</td>\n",
       "      <td>식기/편백</td>\n",
       "      <td>자기</td>\n",
       "      <td>1p</td>\n",
       "      <td>1</td>\n",
       "      <td>1</td>\n",
       "    </tr>\n",
       "    <tr>\n",
       "      <th>1</th>\n",
       "      <td>100022V2_1</td>\n",
       "      <td>7곡딸기롤과자</td>\n",
       "      <td>과자</td>\n",
       "      <td>스낵</td>\n",
       "      <td>100g/10개입</td>\n",
       "      <td>0</td>\n",
       "      <td>0</td>\n",
       "    </tr>\n",
       "    <tr>\n",
       "      <th>2</th>\n",
       "      <td>100023V2_2</td>\n",
       "      <td>7곡참식</td>\n",
       "      <td>식사대용</td>\n",
       "      <td>선식/생식</td>\n",
       "      <td>700g</td>\n",
       "      <td>0</td>\n",
       "      <td>1</td>\n",
       "    </tr>\n",
       "    <tr>\n",
       "      <th>3</th>\n",
       "      <td>100024V2_3</td>\n",
       "      <td>가리비</td>\n",
       "      <td>생물수산</td>\n",
       "      <td>패류/갑각류</td>\n",
       "      <td>1.5kg</td>\n",
       "      <td>0</td>\n",
       "      <td>0</td>\n",
       "    </tr>\n",
       "    <tr>\n",
       "      <th>4</th>\n",
       "      <td>100025V2_3</td>\n",
       "      <td>가리비</td>\n",
       "      <td>생물수산</td>\n",
       "      <td>패류/갑각류</td>\n",
       "      <td>1kg</td>\n",
       "      <td>0</td>\n",
       "      <td>0</td>\n",
       "    </tr>\n",
       "    <tr>\n",
       "      <th>...</th>\n",
       "      <td>...</td>\n",
       "      <td>...</td>\n",
       "      <td>...</td>\n",
       "      <td>...</td>\n",
       "      <td>...</td>\n",
       "      <td>...</td>\n",
       "      <td>...</td>\n",
       "    </tr>\n",
       "    <tr>\n",
       "      <th>2544</th>\n",
       "      <td>100022545V2_1913</td>\n",
       "      <td>흑임자구름떡</td>\n",
       "      <td>떡</td>\n",
       "      <td>즉석떡</td>\n",
       "      <td>180g</td>\n",
       "      <td>0</td>\n",
       "      <td>0</td>\n",
       "    </tr>\n",
       "    <tr>\n",
       "      <th>2545</th>\n",
       "      <td>100022546V2_1914</td>\n",
       "      <td>흑임자인절미</td>\n",
       "      <td>떡</td>\n",
       "      <td>즉석떡</td>\n",
       "      <td>150g</td>\n",
       "      <td>0</td>\n",
       "      <td>0</td>\n",
       "    </tr>\n",
       "    <tr>\n",
       "      <th>2546</th>\n",
       "      <td>100022547V2_1915</td>\n",
       "      <td>흑토마토</td>\n",
       "      <td>과일채소</td>\n",
       "      <td>완숙토마토</td>\n",
       "      <td>1kg</td>\n",
       "      <td>0</td>\n",
       "      <td>0</td>\n",
       "    </tr>\n",
       "    <tr>\n",
       "      <th>2547</th>\n",
       "      <td>100022548V2_1915</td>\n",
       "      <td>흑토마토</td>\n",
       "      <td>과일채소</td>\n",
       "      <td>완숙토마토</td>\n",
       "      <td>1kg/소</td>\n",
       "      <td>0</td>\n",
       "      <td>0</td>\n",
       "    </tr>\n",
       "    <tr>\n",
       "      <th>2548</th>\n",
       "      <td>100022549V2_1916</td>\n",
       "      <td>흰밀가루</td>\n",
       "      <td>가루</td>\n",
       "      <td>곡식가루</td>\n",
       "      <td>1kg</td>\n",
       "      <td>0</td>\n",
       "      <td>1</td>\n",
       "    </tr>\n",
       "  </tbody>\n",
       "</table>\n",
       "<p>2549 rows × 7 columns</p>\n",
       "</div>"
      ],
      "text/plain": [
       "                  제품번호      물품명  물품대분류   물품중분류       상품중량  식품/비식품  냉장여부\n",
       "0           100021V2_0    2단무늬컵  식기/편백      자기         1p       1     1\n",
       "1           100022V2_1  7곡딸기롤과자     과자      스낵  100g/10개입       0     0\n",
       "2           100023V2_2     7곡참식   식사대용   선식/생식       700g       0     1\n",
       "3           100024V2_3      가리비   생물수산  패류/갑각류      1.5kg       0     0\n",
       "4           100025V2_3      가리비   생물수산  패류/갑각류        1kg       0     0\n",
       "...                ...      ...    ...     ...        ...     ...   ...\n",
       "2544  100022545V2_1913   흑임자구름떡      떡     즉석떡       180g       0     0\n",
       "2545  100022546V2_1914   흑임자인절미      떡     즉석떡       150g       0     0\n",
       "2546  100022547V2_1915     흑토마토   과일채소   완숙토마토        1kg       0     0\n",
       "2547  100022548V2_1915     흑토마토   과일채소   완숙토마토      1kg/소       0     0\n",
       "2548  100022549V2_1916     흰밀가루     가루    곡식가루        1kg       0     1\n",
       "\n",
       "[2549 rows x 7 columns]"
      ]
     },
     "execution_count": 76,
     "metadata": {},
     "output_type": "execute_result"
    }
   ],
   "source": [
    "# 영어범주 컬럼 제거\n",
    "df3 = df3.drop(columns=['영어범주'])\n",
    "df3"
   ]
  },
  {
   "cell_type": "code",
   "execution_count": 78,
   "id": "4429c8d6-c8a8-4ac7-88e8-81f748beaec2",
   "metadata": {},
   "outputs": [
    {
     "data": {
      "text/html": [
       "<div>\n",
       "<style scoped>\n",
       "    .dataframe tbody tr th:only-of-type {\n",
       "        vertical-align: middle;\n",
       "    }\n",
       "\n",
       "    .dataframe tbody tr th {\n",
       "        vertical-align: top;\n",
       "    }\n",
       "\n",
       "    .dataframe thead th {\n",
       "        text-align: right;\n",
       "    }\n",
       "</style>\n",
       "<table border=\"1\" class=\"dataframe\">\n",
       "  <thead>\n",
       "    <tr style=\"text-align: right;\">\n",
       "      <th></th>\n",
       "      <th>제품번호</th>\n",
       "      <th>물품명</th>\n",
       "      <th>물품대분류</th>\n",
       "      <th>물품중분류</th>\n",
       "      <th>식품/비식품</th>\n",
       "      <th>냉장여부</th>\n",
       "    </tr>\n",
       "  </thead>\n",
       "  <tbody>\n",
       "    <tr>\n",
       "      <th>0</th>\n",
       "      <td>100021V2_0</td>\n",
       "      <td>2단무늬컵</td>\n",
       "      <td>식기/편백</td>\n",
       "      <td>자기</td>\n",
       "      <td>1</td>\n",
       "      <td>1</td>\n",
       "    </tr>\n",
       "    <tr>\n",
       "      <th>1</th>\n",
       "      <td>100022V2_1</td>\n",
       "      <td>7곡딸기롤과자</td>\n",
       "      <td>과자</td>\n",
       "      <td>스낵</td>\n",
       "      <td>0</td>\n",
       "      <td>0</td>\n",
       "    </tr>\n",
       "    <tr>\n",
       "      <th>2</th>\n",
       "      <td>100023V2_2</td>\n",
       "      <td>7곡참식</td>\n",
       "      <td>식사대용</td>\n",
       "      <td>선식/생식</td>\n",
       "      <td>0</td>\n",
       "      <td>1</td>\n",
       "    </tr>\n",
       "    <tr>\n",
       "      <th>3</th>\n",
       "      <td>100024V2_3</td>\n",
       "      <td>가리비</td>\n",
       "      <td>생물수산</td>\n",
       "      <td>패류/갑각류</td>\n",
       "      <td>0</td>\n",
       "      <td>0</td>\n",
       "    </tr>\n",
       "    <tr>\n",
       "      <th>4</th>\n",
       "      <td>100025V2_3</td>\n",
       "      <td>가리비</td>\n",
       "      <td>생물수산</td>\n",
       "      <td>패류/갑각류</td>\n",
       "      <td>0</td>\n",
       "      <td>0</td>\n",
       "    </tr>\n",
       "    <tr>\n",
       "      <th>...</th>\n",
       "      <td>...</td>\n",
       "      <td>...</td>\n",
       "      <td>...</td>\n",
       "      <td>...</td>\n",
       "      <td>...</td>\n",
       "      <td>...</td>\n",
       "    </tr>\n",
       "    <tr>\n",
       "      <th>2544</th>\n",
       "      <td>100022545V2_1913</td>\n",
       "      <td>흑임자구름떡</td>\n",
       "      <td>떡</td>\n",
       "      <td>즉석떡</td>\n",
       "      <td>0</td>\n",
       "      <td>0</td>\n",
       "    </tr>\n",
       "    <tr>\n",
       "      <th>2545</th>\n",
       "      <td>100022546V2_1914</td>\n",
       "      <td>흑임자인절미</td>\n",
       "      <td>떡</td>\n",
       "      <td>즉석떡</td>\n",
       "      <td>0</td>\n",
       "      <td>0</td>\n",
       "    </tr>\n",
       "    <tr>\n",
       "      <th>2546</th>\n",
       "      <td>100022547V2_1915</td>\n",
       "      <td>흑토마토</td>\n",
       "      <td>과일채소</td>\n",
       "      <td>완숙토마토</td>\n",
       "      <td>0</td>\n",
       "      <td>0</td>\n",
       "    </tr>\n",
       "    <tr>\n",
       "      <th>2547</th>\n",
       "      <td>100022548V2_1915</td>\n",
       "      <td>흑토마토</td>\n",
       "      <td>과일채소</td>\n",
       "      <td>완숙토마토</td>\n",
       "      <td>0</td>\n",
       "      <td>0</td>\n",
       "    </tr>\n",
       "    <tr>\n",
       "      <th>2548</th>\n",
       "      <td>100022549V2_1916</td>\n",
       "      <td>흰밀가루</td>\n",
       "      <td>가루</td>\n",
       "      <td>곡식가루</td>\n",
       "      <td>0</td>\n",
       "      <td>1</td>\n",
       "    </tr>\n",
       "  </tbody>\n",
       "</table>\n",
       "<p>2549 rows × 6 columns</p>\n",
       "</div>"
      ],
      "text/plain": [
       "                  제품번호      물품명  물품대분류   물품중분류  식품/비식품  냉장여부\n",
       "0           100021V2_0    2단무늬컵  식기/편백      자기       1     1\n",
       "1           100022V2_1  7곡딸기롤과자     과자      스낵       0     0\n",
       "2           100023V2_2     7곡참식   식사대용   선식/생식       0     1\n",
       "3           100024V2_3      가리비   생물수산  패류/갑각류       0     0\n",
       "4           100025V2_3      가리비   생물수산  패류/갑각류       0     0\n",
       "...                ...      ...    ...     ...     ...   ...\n",
       "2544  100022545V2_1913   흑임자구름떡      떡     즉석떡       0     0\n",
       "2545  100022546V2_1914   흑임자인절미      떡     즉석떡       0     0\n",
       "2546  100022547V2_1915     흑토마토   과일채소   완숙토마토       0     0\n",
       "2547  100022548V2_1915     흑토마토   과일채소   완숙토마토       0     0\n",
       "2548  100022549V2_1916     흰밀가루     가루    곡식가루       0     1\n",
       "\n",
       "[2549 rows x 6 columns]"
      ]
     },
     "execution_count": 78,
     "metadata": {},
     "output_type": "execute_result"
    }
   ],
   "source": [
    "df3 = df3.drop(columns=['상품중량'])\n",
    "df3\n",
    "\n",
    "# 상품중량 컬럼에 분석 효과가 없을 거 같아 컬럼 열 삭제"
   ]
  },
  {
   "cell_type": "code",
   "execution_count": 80,
   "id": "a76ef2a0-8514-41d8-ae95-3c5a971d4721",
   "metadata": {},
   "outputs": [
    {
     "data": {
      "text/plain": [
       "제품번호      0\n",
       "물품명       0\n",
       "물품대분류     0\n",
       "물품중분류     0\n",
       "식품/비식품    0\n",
       "냉장여부      0\n",
       "dtype: int64"
      ]
     },
     "execution_count": 80,
     "metadata": {},
     "output_type": "execute_result"
    }
   ],
   "source": [
    "df3.isnull().sum()"
   ]
  },
  {
   "cell_type": "code",
   "execution_count": 109,
   "id": "80ef49ed-53dd-4020-955c-16ed6329aa19",
   "metadata": {},
   "outputs": [],
   "source": [
    "# CSV 파일로 저장\n",
    "df3.to_csv('clean_product.csv', index=False, encoding='utf-8-sig')\n"
   ]
  },
  {
   "cell_type": "markdown",
   "id": "25fba5b6-00ae-4127-b846-73a9b70b6a68",
   "metadata": {},
   "source": [
    "#### 정제 요약\n",
    "- 1) 물품중분류를 식품/비식품 파생변수 생성 (식품 : 0 ,비식품 :1)\n",
    "  2) 식품을 냉장/ 비 냉장 파생변수 생성 (냉장:0 , 비냉장 : 1)\n",
    "  3) 상품중량 컬럼열 삭제 - 상품중량 컬럼 분석에 안쓸거임\n",
    "     - "
   ]
  },
  {
   "cell_type": "code",
   "execution_count": 87,
   "id": "15e456b0-75a5-4a0d-8ba4-6b35ba699fe3",
   "metadata": {},
   "outputs": [
    {
     "data": {
      "text/plain": [
       "냉장여부\n",
       "0    1330\n",
       "1    1219\n",
       "Name: count, dtype: int64"
      ]
     },
     "execution_count": 87,
     "metadata": {},
     "output_type": "execute_result"
    }
   ],
   "source": [
    "df3['냉장여부'].value_counts()"
   ]
  },
  {
   "cell_type": "code",
   "execution_count": 93,
   "id": "89f4c253-bc78-468c-be3b-b82169c65752",
   "metadata": {},
   "outputs": [
    {
     "data": {
      "text/plain": [
       "2549"
      ]
     },
     "execution_count": 93,
     "metadata": {},
     "output_type": "execute_result"
    }
   ],
   "source": [
    "1330 + 1219"
   ]
  },
  {
   "cell_type": "code",
   "execution_count": 89,
   "id": "f0b18626-9e50-429e-b22a-3339a82da62b",
   "metadata": {},
   "outputs": [
    {
     "data": {
      "text/plain": [
       "식품/비식품\n",
       "0    1957\n",
       "1     592\n",
       "Name: count, dtype: int64"
      ]
     },
     "execution_count": 89,
     "metadata": {},
     "output_type": "execute_result"
    }
   ],
   "source": [
    "df3['식품/비식품'].value_counts()"
   ]
  },
  {
   "cell_type": "code",
   "execution_count": 91,
   "id": "19681c74-686d-450c-b1b8-4157bf7be0e8",
   "metadata": {},
   "outputs": [
    {
     "data": {
      "text/plain": [
       "2549"
      ]
     },
     "execution_count": 91,
     "metadata": {},
     "output_type": "execute_result"
    }
   ],
   "source": [
    "1957 + 592"
   ]
  },
  {
   "cell_type": "code",
   "execution_count": 12,
   "id": "e9ec5ff8-7fcc-4a50-aa5f-d6e8efd8362a",
   "metadata": {},
   "outputs": [
    {
     "data": {
      "text/plain": [
       "회원번호               0\n",
       "회원상태               2\n",
       "구매수량               0\n",
       "구매금액               0\n",
       "주문일시               0\n",
       "배송시작일          30635\n",
       "배송완료일          30635\n",
       "사용 적립금             0\n",
       "사용 포인트 네이버         0\n",
       "주문취소여부        637476\n",
       "주문시간               0\n",
       "제품번호               0\n",
       "dtype: int64"
      ]
     },
     "execution_count": 12,
     "metadata": {},
     "output_type": "execute_result"
    }
   ],
   "source": [
    "df1 = pd.read_csv('주문.csv')\n",
    "df1.isnull().sum()"
   ]
  },
  {
   "cell_type": "code",
   "execution_count": 20,
   "id": "f0e8873d-3ebb-48b3-9133-dc53cee18bc7",
   "metadata": {},
   "outputs": [
    {
     "data": {
      "text/plain": [
       "회원번호        0\n",
       "회원상태        1\n",
       "성별          1\n",
       "나이          0\n",
       "등록카드       15\n",
       "결혼       2717\n",
       "구독여부     2346\n",
       "주소지         3\n",
       "세부주소지       9\n",
       "dtype: int64"
      ]
     },
     "execution_count": 20,
     "metadata": {},
     "output_type": "execute_result"
    }
   ],
   "source": [
    "df2 = pd.read_csv('member_data.csv')\n",
    "df2.isnull().sum()"
   ]
  },
  {
   "cell_type": "code",
   "execution_count": 16,
   "id": "e14ba154-be0c-47bc-b9ba-9dc54ec33762",
   "metadata": {},
   "outputs": [
    {
     "name": "stdout",
     "output_type": "stream",
     "text": [
      "Collecting pmdarima\n",
      "  Downloading pmdarima-2.0.4-cp311-cp311-win_amd64.whl.metadata (8.0 kB)\n",
      "Requirement already satisfied: joblib>=0.11 in c:\\users\\campus4d046\\anaconda3\\lib\\site-packages (from pmdarima) (1.2.0)\n",
      "Collecting Cython!=0.29.18,!=0.29.31,>=0.29 (from pmdarima)\n",
      "  Downloading Cython-3.0.10-cp311-cp311-win_amd64.whl.metadata (3.2 kB)\n",
      "Requirement already satisfied: numpy>=1.21.2 in c:\\users\\campus4d046\\anaconda3\\lib\\site-packages (from pmdarima) (1.26.4)\n",
      "Requirement already satisfied: pandas>=0.19 in c:\\users\\campus4d046\\anaconda3\\lib\\site-packages (from pmdarima) (2.1.4)\n",
      "Requirement already satisfied: scikit-learn>=0.22 in c:\\users\\campus4d046\\anaconda3\\lib\\site-packages (from pmdarima) (1.2.2)\n",
      "Requirement already satisfied: scipy>=1.3.2 in c:\\users\\campus4d046\\anaconda3\\lib\\site-packages (from pmdarima) (1.11.4)\n",
      "Requirement already satisfied: statsmodels>=0.13.2 in c:\\users\\campus4d046\\anaconda3\\lib\\site-packages (from pmdarima) (0.14.0)\n",
      "Requirement already satisfied: urllib3 in c:\\users\\campus4d046\\anaconda3\\lib\\site-packages (from pmdarima) (2.0.7)\n",
      "Requirement already satisfied: setuptools!=50.0.0,>=38.6.0 in c:\\users\\campus4d046\\anaconda3\\lib\\site-packages (from pmdarima) (68.2.2)\n",
      "Requirement already satisfied: packaging>=17.1 in c:\\users\\campus4d046\\anaconda3\\lib\\site-packages (from pmdarima) (23.1)\n",
      "Requirement already satisfied: python-dateutil>=2.8.2 in c:\\users\\campus4d046\\anaconda3\\lib\\site-packages (from pandas>=0.19->pmdarima) (2.8.2)\n",
      "Requirement already satisfied: pytz>=2020.1 in c:\\users\\campus4d046\\anaconda3\\lib\\site-packages (from pandas>=0.19->pmdarima) (2023.3.post1)\n",
      "Requirement already satisfied: tzdata>=2022.1 in c:\\users\\campus4d046\\anaconda3\\lib\\site-packages (from pandas>=0.19->pmdarima) (2023.3)\n",
      "Requirement already satisfied: threadpoolctl>=2.0.0 in c:\\users\\campus4d046\\anaconda3\\lib\\site-packages (from scikit-learn>=0.22->pmdarima) (2.2.0)\n",
      "Requirement already satisfied: patsy>=0.5.2 in c:\\users\\campus4d046\\anaconda3\\lib\\site-packages (from statsmodels>=0.13.2->pmdarima) (0.5.3)\n",
      "Requirement already satisfied: six in c:\\users\\campus4d046\\anaconda3\\lib\\site-packages (from patsy>=0.5.2->statsmodels>=0.13.2->pmdarima) (1.16.0)\n",
      "Downloading pmdarima-2.0.4-cp311-cp311-win_amd64.whl (614 kB)\n",
      "   ---------------------------------------- 0.0/614.7 kB ? eta -:--:--\n",
      "   ---------------------------------------- 0.0/614.7 kB ? eta -:--:--\n",
      "   - -------------------------------------- 30.7/614.7 kB ? eta -:--:--\n",
      "   --- ----------------------------------- 61.4/614.7 kB 825.8 kB/s eta 0:00:01\n",
      "   ------ --------------------------------- 102.4/614.7 kB 1.2 MB/s eta 0:00:01\n",
      "   ------------- -------------------------- 204.8/614.7 kB 1.2 MB/s eta 0:00:01\n",
      "   --------------------- ------------------ 327.7/614.7 kB 1.6 MB/s eta 0:00:01\n",
      "   ----------------------------- ---------- 460.8/614.7 kB 1.8 MB/s eta 0:00:01\n",
      "   ---------------------------------------  614.4/614.7 kB 2.0 MB/s eta 0:00:01\n",
      "   ---------------------------------------- 614.7/614.7 kB 1.9 MB/s eta 0:00:00\n",
      "Downloading Cython-3.0.10-cp311-cp311-win_amd64.whl (2.8 MB)\n",
      "   ---------------------------------------- 0.0/2.8 MB ? eta -:--:--\n",
      "   -- ------------------------------------- 0.1/2.8 MB 8.3 MB/s eta 0:00:01\n",
      "   ---- ----------------------------------- 0.3/2.8 MB 4.1 MB/s eta 0:00:01\n",
      "   ------- -------------------------------- 0.5/2.8 MB 4.2 MB/s eta 0:00:01\n",
      "   ---------- ----------------------------- 0.7/2.8 MB 4.2 MB/s eta 0:00:01\n",
      "   ------------- -------------------------- 0.9/2.8 MB 4.1 MB/s eta 0:00:01\n",
      "   --------------- ------------------------ 1.1/2.8 MB 4.1 MB/s eta 0:00:01\n",
      "   ------------------ --------------------- 1.3/2.8 MB 4.1 MB/s eta 0:00:01\n",
      "   -------------------- ------------------- 1.5/2.8 MB 4.0 MB/s eta 0:00:01\n",
      "   ---------------------- ----------------- 1.6/2.8 MB 3.8 MB/s eta 0:00:01\n",
      "   ------------------------- -------------- 1.8/2.8 MB 3.9 MB/s eta 0:00:01\n",
      "   --------------------------- ------------ 1.9/2.8 MB 3.8 MB/s eta 0:00:01\n",
      "   ------------------------------ --------- 2.1/2.8 MB 3.8 MB/s eta 0:00:01\n",
      "   ------------------------------- -------- 2.2/2.8 MB 3.7 MB/s eta 0:00:01\n",
      "   ------------------------------- -------- 2.2/2.8 MB 3.7 MB/s eta 0:00:01\n",
      "   ---------------------------------- ----- 2.4/2.8 MB 3.5 MB/s eta 0:00:01\n",
      "   ------------------------------------ --- 2.5/2.8 MB 3.4 MB/s eta 0:00:01\n",
      "   -------------------------------------- - 2.7/2.8 MB 3.4 MB/s eta 0:00:01\n",
      "   ---------------------------------------- 2.8/2.8 MB 3.3 MB/s eta 0:00:00\n",
      "Installing collected packages: Cython, pmdarima\n",
      "Successfully installed Cython-3.0.10 pmdarima-2.0.4\n"
     ]
    },
    {
     "data": {
      "image/png": "[encoded data removed]",
      "text/plain": [
       "<Figure size 1000x600 with 1 Axes>"
      ]
     },
     "metadata": {},
     "output_type": "display_data"
    },
    {
     "name": "stdout",
     "output_type": "stream",
     "text": [
      "Performing stepwise search to minimize aic\n",
      " ARIMA(1,1,1)(0,0,0)[0] intercept   : AIC=inf, Time=0.21 sec\n",
      " ARIMA(0,1,0)(0,0,0)[0] intercept   : AIC=783.200, Time=0.02 sec\n",
      " ARIMA(1,1,0)(0,0,0)[0] intercept   : AIC=749.834, Time=0.09 sec\n",
      " ARIMA(0,1,1)(0,0,0)[0] intercept   : AIC=inf, Time=0.11 sec\n",
      " ARIMA(0,1,0)(0,0,0)[0]             : AIC=781.230, Time=0.03 sec\n",
      " ARIMA(2,1,0)(0,0,0)[0] intercept   : AIC=746.377, Time=0.13 sec\n",
      " ARIMA(3,1,0)(0,0,0)[0] intercept   : AIC=746.158, Time=0.15 sec\n",
      " ARIMA(4,1,0)(0,0,0)[0] intercept   : AIC=746.268, Time=0.38 sec\n",
      " ARIMA(3,1,1)(0,0,0)[0] intercept   : AIC=inf, Time=0.28 sec\n",
      " ARIMA(2,1,1)(0,0,0)[0] intercept   : AIC=inf, Time=0.24 sec\n",
      " ARIMA(4,1,1)(0,0,0)[0] intercept   : AIC=inf, Time=0.35 sec\n",
      " ARIMA(3,1,0)(0,0,0)[0]             : AIC=744.213, Time=0.08 sec\n",
      " ARIMA(2,1,0)(0,0,0)[0]             : AIC=744.423, Time=0.06 sec\n",
      " ARIMA(4,1,0)(0,0,0)[0]             : AIC=744.364, Time=0.11 sec\n",
      " ARIMA(3,1,1)(0,0,0)[0]             : AIC=inf, Time=0.15 sec\n",
      " ARIMA(2,1,1)(0,0,0)[0]             : AIC=inf, Time=0.15 sec\n",
      " ARIMA(4,1,1)(0,0,0)[0]             : AIC=inf, Time=0.24 sec\n",
      "\n",
      "Best model:  ARIMA(3,1,0)(0,0,0)[0]          \n",
      "Total fit time: 2.807 seconds\n",
      "                               SARIMAX Results                                \n",
      "==============================================================================\n",
      "Dep. Variable:                      y   No. Observations:                   60\n",
      "Model:               SARIMAX(3, 1, 0)   Log Likelihood                -368.107\n",
      "Date:                Fri, 26 Jul 2024   AIC                            744.213\n",
      "Time:                        00:08:32   BIC                            752.523\n",
      "Sample:                    01-31-2018   HQIC                           747.457\n",
      "                         - 12-31-2022                                         \n",
      "Covariance Type:                  opg                                         \n",
      "==============================================================================\n",
      "                 coef    std err          z      P>|z|      [0.025      0.975]\n",
      "------------------------------------------------------------------------------\n",
      "ar.L1         -0.9410      0.139     -6.759      0.000      -1.214      -0.668\n",
      "ar.L2         -0.4874      0.184     -2.652      0.008      -0.848      -0.127\n",
      "ar.L3         -0.2030      0.142     -1.432      0.152      -0.481       0.075\n",
      "sigma2      1.512e+04   4446.941      3.400      0.001    6402.820    2.38e+04\n",
      "===================================================================================\n",
      "Ljung-Box (L1) (Q):                   0.03   Jarque-Bera (JB):                 3.51\n",
      "Prob(Q):                              0.86   Prob(JB):                         0.17\n",
      "Heteroskedasticity (H):               1.25   Skew:                            -0.21\n",
      "Prob(H) (two-sided):                  0.63   Kurtosis:                         1.89\n",
      "===================================================================================\n",
      "\n",
      "Warnings:\n",
      "[1] Covariance matrix calculated using the outer product of gradients (complex-step).\n"
     ]
    },
    {
     "data": {
      "image/png": "[encoded data removed]",
      "text/plain": [
       "<Figure size 1000x600 with 1 Axes>"
      ]
     },
     "metadata": {},
     "output_type": "display_data"
    }
   ],
   "source": [
    "# 라이브러리 설치\n",
    "!pip install pmdarima\n",
    "\n",
    "import pandas as pd\n",
    "import numpy as np\n",
    "import matplotlib.pyplot as plt\n",
    "from pmdarima import auto_arima\n",
    "import warnings\n",
    "\n",
    "# 경고 무시\n",
    "warnings.filterwarnings('ignore')\n",
    "\n",
    "# 예시 데이터 생성 (월별 물량 데이터)\n",
    "np.random.seed(42)\n",
    "dates = pd.date_range(start='2018-01-01', periods=60, freq='M')\n",
    "data = np.random.randint(100, 500, size=len(dates))\n",
    "df = pd.DataFrame({'Date': dates, 'Volume': data})\n",
    "df.set_index('Date', inplace=True)\n",
    "\n",
    "# 데이터 시각화\n",
    "plt.figure(figsize=(10, 6))\n",
    "plt.plot(df, marker='o')\n",
    "plt.title('Monthly Volume')\n",
    "plt.xlabel('Date')\n",
    "plt.ylabel('Volume')\n",
    "plt.show()\n",
    "\n",
    "# auto_arima를 사용하여 최적의 ARIMA 파라미터 찾기\n",
    "stepwise_model = auto_arima(df, start_p=1, start_q=1,\n",
    "                            max_p=5, max_q=5, seasonal=False,\n",
    "                            d=1, trace=True, \n",
    "                            error_action='ignore', \n",
    "                            suppress_warnings=True, \n",
    "                            stepwise=True)\n",
    "\n",
    "print(stepwise_model.summary())\n",
    "\n",
    "# 최적의 ARIMA 모델 적합\n",
    "model = stepwise_model.fit(df)\n",
    "\n",
    "# 예측\n",
    "n_periods = 12  # 예측할 기간 (12개월)\n",
    "forecast, conf_int = model.predict(n_periods=n_periods, return_conf_int=True)\n",
    "forecast_index = pd.date_range(start=df.index[-1], periods=n_periods + 1, freq='M')[1:]\n",
    "forecast_df = pd.DataFrame(forecast, index=forecast_index, columns=['Forecast'])\n",
    "conf_int_df = pd.DataFrame(conf_int, index=forecast_index, columns=['Lower Conf', 'Upper Conf'])\n",
    "\n",
    "# 실제 데이터와 예측 데이터 시각화\n",
    "plt.figure(figsize=(10, 6))\n",
    "plt.plot(df, label='Actual Volume', marker='o')\n",
    "plt.plot(forecast_df, label='Forecast', marker='o')\n",
    "plt.fill_between(conf_int_df.index, \n",
    "                 conf_int_df['Lower Conf'], \n",
    "                 conf_int_df['Upper Conf'], color='pink', alpha=0.3)\n",
    "plt.title('Monthly Volume Forecast')\n",
    "plt.xlabel('Date')\n",
    "plt.ylabel('Volume')\n",
    "plt.legend()\n",
    "plt.show()\n"
   ]
  },
  {
   "cell_type": "code",
   "execution_count": null,
   "id": "c9c5e8da-a555-498e-bbb1-e3942d4d3fef",
   "metadata": {},
   "outputs": [],
   "source": []
  }
 ],
 "metadata": {
  "kernelspec": {
   "display_name": "Python 3 (ipykernel)",
   "language": "python",
   "name": "python3"
  },
  "language_info": {
   "codemirror_mode": {
    "name": "ipython",
    "version": 3
   },
   "file_extension": ".py",
   "mimetype": "text/x-python",
   "name": "python",
   "nbconvert_exporter": "python",
   "pygments_lexer": "ipython3",
   "version": "3.11.7"
  }
 },
 "nbformat": 4,
 "nbformat_minor": 5
}
